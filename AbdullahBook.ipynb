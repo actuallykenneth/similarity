{
 "cells": [
  {
   "cell_type": "code",
   "execution_count": 1,
   "metadata": {},
   "outputs": [],
   "source": [
    "# Useful Imports\n",
    "#from graph import *\n",
    "from mcs import *\n",
    "from utils import *\n",
    "import numpy as np\n",
    "import matplotlib.pyplot as plt\n",
    "import networkx as nx\n",
    "import matplotlib.cbook\n",
    "import warnings\n",
    "import time\n",
    "from networkx.algorithms import approximation\n",
    "warnings.filterwarnings(\"ignore\")"
   ]
  },
  {
   "cell_type": "code",
   "execution_count": 2,
   "metadata": {},
   "outputs": [],
   "source": [
    "# TEST GRAPHS\n",
    "# M = nx.dense_gnm_random_graph(10,20)\n",
    "# M2 = nx.dense_gnm_random_graph(10,20)\n",
    "\n",
    "M = nx.Graph()\n",
    "M.add_edges_from([(0,1),\n",
    "                  (1,2),\n",
    "                  (1,3),\n",
    "                  (2,4),\n",
    "                  (4,3),\n",
    "                  (0,6),\n",
    "                  (6,5),\n",
    "                  (5,0)\n",
    "                 ])\n",
    "M2 = nx.Graph()\n",
    "M2.add_edges_from([(0,1),\n",
    "                  (1,2),\n",
    "                  (1,3),\n",
    "                  (2,4),\n",
    "                  (4,3),\n",
    "                  (0,6),\n",
    "                  (5,0)\n",
    "                 ])"
   ]
  },
  {
   "cell_type": "code",
   "execution_count": 3,
   "metadata": {},
   "outputs": [
    {
     "data": {
      "text/plain": "7"
     },
     "execution_count": 3,
     "metadata": {},
     "output_type": "execute_result"
    }
   ],
   "source": [
    "len(M)"
   ]
  },
  {
   "cell_type": "code",
   "execution_count": 4,
   "metadata": {},
   "outputs": [
    {
     "data": {
      "text/plain": "7"
     },
     "execution_count": 4,
     "metadata": {},
     "output_type": "execute_result"
    }
   ],
   "source": [
    "len(M2)"
   ]
  },
  {
   "cell_type": "code",
   "execution_count": 5,
   "metadata": {},
   "outputs": [],
   "source": [
    "def contraction_distance(G1, G2, display=False):\n",
    "    if(len(G1) != len(G2)):\n",
    "        return (\"Error: Graphs must be of same size\")\n",
    "    \n",
    "    if(display == True):\n",
    "        display_nxgraph(M)\n",
    "        display_nxgraph(M2)\n",
    "    \n",
    "    N = len(G1)\n",
    "    \n",
    "    communs = maximum_common_induced_subgraph(G1,G2,4,False,True)\n",
    "    \n",
    "    K = len(communs[0][0])\n",
    "    \n",
    "    contracDis = N - K\n",
    "    \n",
    "    if(display == True):\n",
    "        display_nxgraph(communs[0][0])\n",
    "        display_nxgraph(communs[0][1])\n",
    "    \n",
    "    return contracDis\n"
   ]
  },
  {
   "cell_type": "code",
   "execution_count": 6,
   "metadata": {},
   "outputs": [
    {
     "name": "stdout",
     "output_type": "stream",
     "text": "Combinations in construction...\nCombinations number Graph 1 :\n64\nCombinations number Graph 2 :\n64\nDone!\nExtracting All Induced Subgraphs...\nDone!\nFinal Subgraphs Number after filtering :\nfor graph 1 :24\nfor graph 2 :24\nDistances...\nDone!\nFound 4 maximum common induced subgraphs.\nMaximum Number of nodes : 6\nTime elapsed :0.30467867851257324\n"
    },
    {
     "data": {
      "text/plain": "1"
     },
     "execution_count": 6,
     "metadata": {},
     "output_type": "execute_result"
    }
   ],
   "source": [
    "contraction_distance(M, M2, False)"
   ]
  }
 ],
 "metadata": {
  "kernelspec": {
   "display_name": "Python 3",
   "language": "python",
   "name": "python3"
  },
  "language_info": {
   "codemirror_mode": {
    "name": "ipython",
    "version": 3
   },
   "file_extension": ".py",
   "mimetype": "text/x-python",
   "name": "python",
   "nbconvert_exporter": "python",
   "pygments_lexer": "ipython3",
   "version": "3.7.6-final"
  }
 },
 "nbformat": 4,
 "nbformat_minor": 2
}